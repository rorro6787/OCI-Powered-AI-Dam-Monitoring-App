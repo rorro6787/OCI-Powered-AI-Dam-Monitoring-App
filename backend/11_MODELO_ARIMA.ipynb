{
  "cells": [
    {
      "cell_type": "code",
      "execution_count": null,
      "metadata": {
        "id": "NVwRomrpCk-7"
      },
      "outputs": [],
      "source": [
        "#IMPORTAR LIBRERIAS\n",
        "import pandas as pd\n",
        "import matplotlib.pyplot as plt\n",
        "from statsmodels.tsa.arima.model import ARIMA\n",
        "from sklearn.metrics import mean_squared_error, r2_score"
      ]
    },
    {
      "cell_type": "code",
      "execution_count": null,
      "metadata": {
        "id": "JfOacak9Fm7I"
      },
      "outputs": [],
      "source": [
        "# Lectura de los datos\n",
        "df = pd.read_excel(\"datos-ARIMA.xlsx\", parse_dates=['Fecha'])"
      ]
    },
    {
      "cell_type": "code",
      "execution_count": null,
      "metadata": {
        "id": "vFWKdtbqFnEi"
      },
      "outputs": [],
      "source": [
        "# Seleccionamos la Fecha como el índice del DataFrame y ordenamos por esta\n",
        "df.set_index('Fecha', inplace=True)\n",
        "df.sort_index(inplace=True)\n",
        "# Establecemos la frecuencia de los datos de forma explícita\n",
        "df = df.asfreq('MS')\n",
        "mod = ARIMA(df['Defectos'], order=(3,1,4))\n",
        "res = mod.fit()\n",
        "# Generamos las predicciones y su intervalo de confianza\n",
        "pred = res.get_prediction(start=pd.to_datetime('1981-01-01'), end=pd.to_datetime('2023-12-01'), dynamic=False)\n",
        "pred_ci = pred.conf_int()\n",
        "# Creamos el gráfico\n",
        "ax = df['Defectos']['1981':].plot(label='Datos observados')\n",
        "pred.predicted_mean.plot(ax=ax, label='Datos simulados', alpha=.7, figsize=(18, 6))\n",
        "ax.fill_between(pred_ci.index,\n",
        "                pred_ci.iloc[:, 0],\n",
        "                pred_ci.iloc[:, 1], color='k', alpha=.2)\n",
        "ax.set_ylim([0, df['Defectos'].max() + 100]) \n",
        "ax.set_xlabel('Fecha')\n",
        "ax.set_ylabel('Número de defectos')\n",
        "plt.legend()\n",
        "plt.show()\n",
        "\n",
        "# Crea el DataFrame a partir de un diccionario que contiene pred.predicted_mean\n",
        "df_pred = pd.DataFrame({'Defectos simulados': pred.predicted_mean})\n",
        "df_pred.to_excel('datos_simulados.xlsx')"
      ]
    },
    {
      "cell_type": "code",
      "execution_count": null,
      "metadata": {
        "id": "uN3JKBixGOR8"
      },
      "outputs": [],
      "source": [
        "#COEFICIENTE DE CORRELACIÓN Y ERROR CUADRATICO\n",
        "pred = res.get_prediction(start=pd.to_datetime('1981-01-01'), end=pd.to_datetime('2022-12-01'), dynamic=False)\n",
        "pred_ci = pred.conf_int()\n",
        "# Cálculo del MSE y R2\n",
        "mse = mean_squared_error(df['Defectos'][pred.predicted_mean.index[0]:pred.predicted_mean.index[-1]], pred.predicted_mean)\n",
        "r2 = r2_score(df['Defectos'][pred.predicted_mean.index[0]:pred.predicted_mean.index[-1]], pred.predicted_mean)\n",
        "print(f\"El error cuadrático medio (MSE) es: {mse}\")\n",
        "print(f\"El coeficiente de determinación (R2) es: {r2}\")"
      ]
    }
  ],
  "metadata": {
    "colab": {
      "provenance": []
    },
    "kernelspec": {
      "display_name": "Python 3",
      "name": "python3"
    },
    "language_info": {
      "name": "python"
    }
  },
  "nbformat": 4,
  "nbformat_minor": 0
}
